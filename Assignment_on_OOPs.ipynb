{
  "nbformat": 4,
  "nbformat_minor": 0,
  "metadata": {
    "colab": {
      "provenance": []
    },
    "kernelspec": {
      "name": "python3",
      "display_name": "Python 3"
    },
    "language_info": {
      "name": "python"
    }
  },
  "cells": [
    {
      "cell_type": "markdown",
      "source": [
        "1. What are the five key concepts of Object-Oriented Programming (OOP)?"
      ],
      "metadata": {
        "id": "YQjraBydrWiN"
      }
    },
    {
      "cell_type": "markdown",
      "source": [
        "The five key concepts of Object-oriented programs are:\n",
        "1) Inheritance\n",
        "2)Abstraction\n",
        "3)Polymorphism\n",
        "4)Encapsulation\n",
        "5)Decorators\n"
      ],
      "metadata": {
        "id": "wsOjpfgQsMHI"
      }
    },
    {
      "cell_type": "markdown",
      "source": [
        "2. Write a Python class for a `Car` with attributes for `make`, `model`, and `year`. Include a method to display\n",
        "the car's information."
      ],
      "metadata": {
        "id": "-ve0tIMhs7ia"
      }
    },
    {
      "cell_type": "code",
      "source": [
        "class Car:\n",
        "  def __init__(self,make,model,year):\n",
        "    self.make =make\n",
        "    self.model =model\n",
        "    self.year = year\n",
        "  def display_info(self):\n",
        "    print(f\"make:{self.make}\")\n",
        "    print(f\"model:{self.model}\")\n",
        "    print(f\"year:{self.year}\")"
      ],
      "metadata": {
        "id": "0Wcx4KaVs8Eq"
      },
      "execution_count": null,
      "outputs": []
    },
    {
      "cell_type": "code",
      "source": [
        "my_Car = Car(\"Scorpio\",\"swift\",2023)"
      ],
      "metadata": {
        "id": "O55nvcgPt_u5"
      },
      "execution_count": null,
      "outputs": []
    },
    {
      "cell_type": "code",
      "source": [
        "my_Car.display_info()"
      ],
      "metadata": {
        "colab": {
          "base_uri": "https://localhost:8080/"
        },
        "id": "WYzXJchjudvU",
        "outputId": "94f008e3-4269-4137-aecc-7a6cf262b391"
      },
      "execution_count": null,
      "outputs": [
        {
          "output_type": "stream",
          "name": "stdout",
          "text": [
            "make:Scorpio\n",
            "model:swift\n",
            "year:2023\n"
          ]
        }
      ]
    },
    {
      "cell_type": "markdown",
      "source": [
        " 3. Explain the difference between instance methods and class methods. Provide an example of each"
      ],
      "metadata": {
        "id": "UG6OkA6FvRaB"
      }
    },
    {
      "cell_type": "markdown",
      "source": [
        "Instance Method: used to view or change an object's state. A method is referred to as an instance method if it uses instance variables\n",
        "Class Method: used to access or alter the class state. If we exclusively use class variables when implementing a method, we should declare that method as a class method.\n",
        "     "
      ],
      "metadata": {
        "id": "x7KF83qqEnbo"
      }
    },
    {
      "cell_type": "code",
      "source": [
        "#example of instance method\n",
        "class Dog:\n",
        "    def __init__(self, name, breed):\n",
        "        self.name = name\n",
        "        self.breed = breed\n",
        "\n",
        "    def bark(self):\n",
        "        print(f\"{self.name} the {self.breed} says Woof!\")\n",
        "\n",
        "my_dog = Dog(\"shiro\", \"Golden Retriever\")\n",
        "\n",
        "my_dog.bark()"
      ],
      "metadata": {
        "id": "SRtSiJPzvXZn",
        "colab": {
          "base_uri": "https://localhost:8080/"
        },
        "outputId": "206ed76c-2187-4bd8-89b0-ff622fa70af1"
      },
      "execution_count": 1,
      "outputs": [
        {
          "output_type": "stream",
          "name": "stdout",
          "text": [
            "shiro the Golden Retriever says Woof!\n"
          ]
        }
      ]
    },
    {
      "cell_type": "code",
      "source": [
        "#example of class method\n",
        "class Dog:\n",
        "    species = \"golden retriever\"\n",
        "\n",
        "    def __init__(self, name, breed):\n",
        "        self.name = name\n",
        "        self.breed = breed\n",
        "\n",
        "    def bark(self):\n",
        "        print(f\"{self.name} the {self.breed} says Woof!\")\n",
        "\n",
        "    @classmethod\n",
        "    def get_species(cls):\n",
        "        return cls.species\n",
        "\n",
        "\n",
        "print(Dog.get_species())"
      ],
      "metadata": {
        "colab": {
          "base_uri": "https://localhost:8080/"
        },
        "id": "k2VB2nqnEtBu",
        "outputId": "9cddaf83-edc2-4e51-d278-9b4059dbfab5"
      },
      "execution_count": 2,
      "outputs": [
        {
          "output_type": "stream",
          "name": "stdout",
          "text": [
            "golden retriever\n"
          ]
        }
      ]
    },
    {
      "cell_type": "markdown",
      "source": [
        " 4. How does Python implement method overloading? Give an example."
      ],
      "metadata": {
        "id": "klGJcyRwvc7X"
      }
    },
    {
      "cell_type": "code",
      "source": [
        "class Calculator:\n",
        "    def add(self, x, y=None, z=None):\n",
        "        if y is None and z is None:\n",
        "            return x\n",
        "        elif z is None:\n",
        "            return x + y\n",
        "        else:\n",
        "            return x + y + z\n",
        "\n",
        "calc = Calculator()\n",
        "\n",
        "print(calc.add(5))\n",
        "print(calc.add(5, 3))\n",
        "print(calc.add(5, 3, 2))"
      ],
      "metadata": {
        "id": "UwtCkJ3CvdTg",
        "colab": {
          "base_uri": "https://localhost:8080/"
        },
        "outputId": "1c15e6a3-8688-4f46-cba4-1015bc108f60"
      },
      "execution_count": 3,
      "outputs": [
        {
          "output_type": "stream",
          "name": "stdout",
          "text": [
            "5\n",
            "8\n",
            "10\n"
          ]
        }
      ]
    },
    {
      "cell_type": "markdown",
      "source": [
        "5. What are the three types of access modifiers in Python? How are they denoted?"
      ],
      "metadata": {
        "id": "7WSaAYV0vgxg"
      }
    },
    {
      "cell_type": "code",
      "source": [
        "# Private, public, and protected are the three different access modifier types that Python offers.\n",
        "#Public Member : from outside of class, anywhere accessible.\n",
        "#Private Member : Within the class, accessible.\n",
        "#Protected Member : Public Member : Within the class and its subclasses, accessible."
      ],
      "metadata": {
        "id": "nognNynBvhHx"
      },
      "execution_count": 4,
      "outputs": []
    },
    {
      "cell_type": "code",
      "source": [
        "#Public\n",
        "class Student:\n",
        "    def __init__(self, name, degree):\n",
        "        self.name = name\n",
        "        self.degree = degree"
      ],
      "metadata": {
        "id": "n4EWV0_PFBZt"
      },
      "execution_count": 8,
      "outputs": []
    },
    {
      "cell_type": "code",
      "source": [
        "stud1 = Student(\"Roshni\", \"bcom\")\n",
        "stud1.name"
      ],
      "metadata": {
        "colab": {
          "base_uri": "https://localhost:8080/",
          "height": 36
        },
        "id": "GU7iI79PFFIB",
        "outputId": "d365040c-a0b9-4729-f32e-49beaef90fae"
      },
      "execution_count": 9,
      "outputs": [
        {
          "output_type": "execute_result",
          "data": {
            "text/plain": [
              "'Roshni'"
            ],
            "application/vnd.google.colaboratory.intrinsic+json": {
              "type": "string"
            }
          },
          "metadata": {},
          "execution_count": 9
        }
      ]
    },
    {
      "cell_type": "code",
      "source": [
        "stud1.degree"
      ],
      "metadata": {
        "colab": {
          "base_uri": "https://localhost:8080/",
          "height": 36
        },
        "id": "aHgWGIvDFE72",
        "outputId": "e244faba-6525-4f8b-e4b4-4db16dc17d78"
      },
      "execution_count": 10,
      "outputs": [
        {
          "output_type": "execute_result",
          "data": {
            "text/plain": [
              "'bcom'"
            ],
            "application/vnd.google.colaboratory.intrinsic+json": {
              "type": "string"
            }
          },
          "metadata": {},
          "execution_count": 10
        }
      ]
    },
    {
      "cell_type": "code",
      "source": [
        "\n",
        "#Private\n",
        "class Student:\n",
        "    def __init__(self, name, degree):\n",
        "        self.name = name\n",
        "        self.__degree = degree #private data\n",
        "\n",
        "    def show(self):\n",
        "        #accessing the private data member\n",
        "        print(\"name\", self.name, 'degree', self.__degree)"
      ],
      "metadata": {
        "id": "9GHkQo2OFarE"
      },
      "execution_count": 11,
      "outputs": []
    },
    {
      "cell_type": "code",
      "source": [
        "aj = Student(\"Roshni\", \"bcom\")\n",
        "aj.show()"
      ],
      "metadata": {
        "colab": {
          "base_uri": "https://localhost:8080/"
        },
        "id": "pfWx9eAGFafr",
        "outputId": "2beb5c0e-2e52-400c-8036-b6ca57160c8c"
      },
      "execution_count": 12,
      "outputs": [
        {
          "output_type": "stream",
          "name": "stdout",
          "text": [
            "name Roshni degree bcom\n"
          ]
        }
      ]
    },
    {
      "cell_type": "code",
      "source": [
        "#Protected\n",
        "class College:\n",
        "    def __init__(self):\n",
        "        self._college_name = \"PWSkills\"\n",
        "class Student(College):\n",
        "    def __init__(self, name):\n",
        "        self.name = name\n",
        "        College.__init__(self)\n",
        "\n",
        "    def show(self):\n",
        "        print(\"name\", self.name, \"college\", self._college_name)\n",
        ""
      ],
      "metadata": {
        "id": "V7KjL3_vFaXA"
      },
      "execution_count": 13,
      "outputs": []
    },
    {
      "cell_type": "code",
      "source": [
        "\n",
        "stud = Student(\"Tanu\")\n",
        "stud.show()"
      ],
      "metadata": {
        "colab": {
          "base_uri": "https://localhost:8080/"
        },
        "id": "QWilXNIhFpIj",
        "outputId": "71feb33e-078a-4e21-b5d5-e004529dae8d"
      },
      "execution_count": 14,
      "outputs": [
        {
          "output_type": "stream",
          "name": "stdout",
          "text": [
            "name Tanu college PWSkills\n"
          ]
        }
      ]
    },
    {
      "cell_type": "markdown",
      "source": [
        "6. Describe the five types of inheritance in Python. Provide a simple example of multiple inheritance."
      ],
      "metadata": {
        "id": "VWLuqq43viHG"
      }
    },
    {
      "cell_type": "code",
      "source": [
        "\n",
        "#1. Single Inheritance:when a class has only one parent,it is said to have a single inheritance.\n",
        "#2. Multiple inheritance : One child class may inherit from several parent classes when there is multiple inheritance\n",
        "#3. Multilevel Inheritance : A class inherits from a child class or derived class under multilevel inheritance. Think of three classes: A, B, and C. Superclass A, child class B, and child class C are all subclasses of A. In other words, multilevel inheritance is the term used to describe a set of classes.\n",
        "#4. Hierarchical Inheritance : A single parent class gives rise to multiple child classes under hierarchical inheritance. To put it another way, we can say that there is one parent class and several child classes.\n",
        "#5. Hybrid inheritance : When inheritance consists of multiple types or a combination of different inheritance is called hybrid inheritance.\n",
        ""
      ],
      "metadata": {
        "id": "FW4miE6rF0wh"
      },
      "execution_count": 15,
      "outputs": []
    },
    {
      "cell_type": "code",
      "source": [
        "#example of multiple inheritance\n",
        "class ParentClass1:\n",
        "    def method1(self):\n",
        "        print(\"method 1 of parent class 1\")\n",
        "class ParentClass2:\n",
        "    def method2(self):\n",
        "        print(\"method2 of parent class 2\")"
      ],
      "metadata": {
        "id": "_Mtboah2F2dT"
      },
      "execution_count": 16,
      "outputs": []
    },
    {
      "cell_type": "code",
      "source": [
        "\n",
        "class ChildClass(ParentClass1, ParentClass2):\n",
        "    def method(self):\n",
        "        print(\"method of child class\")"
      ],
      "metadata": {
        "id": "q7tZ8D5LF7s0"
      },
      "execution_count": 17,
      "outputs": []
    },
    {
      "cell_type": "code",
      "source": [
        "c1 = ChildClass()\n",
        "c1.method()"
      ],
      "metadata": {
        "colab": {
          "base_uri": "https://localhost:8080/"
        },
        "id": "l411Np-SF7iy",
        "outputId": "b12fa96f-3433-469b-ec69-1d71cf8db88a"
      },
      "execution_count": 18,
      "outputs": [
        {
          "output_type": "stream",
          "name": "stdout",
          "text": [
            "method of child class\n"
          ]
        }
      ]
    },
    {
      "cell_type": "code",
      "source": [
        "\n",
        "c1.method1()"
      ],
      "metadata": {
        "colab": {
          "base_uri": "https://localhost:8080/"
        },
        "id": "tBW1NPAsGCuR",
        "outputId": "8ac87854-af6c-43eb-ba26-5207e5583931"
      },
      "execution_count": 19,
      "outputs": [
        {
          "output_type": "stream",
          "name": "stdout",
          "text": [
            "method 1 of parent class 1\n"
          ]
        }
      ]
    },
    {
      "cell_type": "code",
      "source": [
        "\n",
        "c1.method2()"
      ],
      "metadata": {
        "colab": {
          "base_uri": "https://localhost:8080/"
        },
        "id": "s_gLPhZwGCiU",
        "outputId": "b59ecc94-c0aa-4502-d6a4-8f8f3314de61"
      },
      "execution_count": 20,
      "outputs": [
        {
          "output_type": "stream",
          "name": "stdout",
          "text": [
            "method2 of parent class 2\n"
          ]
        }
      ]
    },
    {
      "cell_type": "markdown",
      "source": [
        "7. What is the Method Resolution Order (MRO) in Python? How can you retrieve it programmatically?"
      ],
      "metadata": {
        "id": "ZIFQEKVTvlW5"
      }
    },
    {
      "cell_type": "code",
      "source": [
        "#To mitigate the diamond problem, Python uses a method resolution order (MRO) algorithm called C3 linearization. The MRO determines the order in which the base classes are searched for a method or attribute. It follows a specific set of rules to ensure a consistent and unambiguous order\n",
        ""
      ],
      "metadata": {
        "id": "eiC-CHpqGJKS"
      },
      "execution_count": 22,
      "outputs": []
    },
    {
      "cell_type": "code",
      "source": [
        "\n",
        "class A:\n",
        "    def method(self):\n",
        "        print(\"Method in A\")\n",
        "\n",
        "class B(A):\n",
        "    def method(self):\n",
        "        print(\"Method in B\")\n",
        "\n",
        "class C(A):\n",
        "    def method(self):\n",
        "        print(\"Method in C\")\n",
        "\n",
        "class D(B, C):\n",
        "    pass\n",
        "\n",
        "# Retrieve MRO using __mro__ attribute\n",
        "print(D.__mro__)\n",
        "\n",
        "# Retrieve MRO using mro() method\n",
        "print(D.mro())\n",
        ""
      ],
      "metadata": {
        "colab": {
          "base_uri": "https://localhost:8080/"
        },
        "id": "mi1XYowBGI2F",
        "outputId": "95e085a8-135a-4afe-a953-323ac3c767e8"
      },
      "execution_count": 23,
      "outputs": [
        {
          "output_type": "stream",
          "name": "stdout",
          "text": [
            "(<class '__main__.D'>, <class '__main__.B'>, <class '__main__.C'>, <class '__main__.A'>, <class 'object'>)\n",
            "[<class '__main__.D'>, <class '__main__.B'>, <class '__main__.C'>, <class '__main__.A'>, <class 'object'>]\n"
          ]
        }
      ]
    },
    {
      "cell_type": "markdown",
      "source": [
        " 8. Create an abstract base class `Shape` with an abstract method `area()`. Then create two subclasses\n",
        "`Circle` and `Rectangle` that implement the `area()` method."
      ],
      "metadata": {
        "id": "4kUeyWWnvpYD"
      }
    },
    {
      "cell_type": "code",
      "source": [
        "\n",
        "from abc import ABC, abstractmethod\n",
        "import math\n",
        "\n",
        "class Shape(ABC):\n",
        "    @abstractmethod\n",
        "    def area(self):\n",
        "        pass\n",
        "\n",
        "class Circle(Shape):\n",
        "    def __init__(self, radius):\n",
        "        self.radius = radius\n",
        "\n",
        "    def area(self):\n",
        "        return math.pi * self.radius * self.radius\n",
        "\n",
        "class Rectangle(Shape):\n",
        "    def __init__(self, width, height):\n",
        "        self.width = width\n",
        "        self.height = height\n",
        "\n",
        "    def area(self):\n",
        "        return self.width * self.height\n",
        "\n",
        "# Example usage\n",
        "circle = Circle(5)\n",
        "rectangle = Rectangle(4, 6)\n",
        "\n",
        "print(f\"Area of circle: {circle.area()}\")\n",
        "print(f\"Area of rectangle: {rectangle.area()}\")\n"
      ],
      "metadata": {
        "id": "NPsfFHAGvkc2",
        "colab": {
          "base_uri": "https://localhost:8080/"
        },
        "outputId": "a2860626-f656-4061-8822-763f252b6201"
      },
      "execution_count": 24,
      "outputs": [
        {
          "output_type": "stream",
          "name": "stdout",
          "text": [
            "Area of circle: 78.53981633974483\n",
            "Area of rectangle: 24\n"
          ]
        }
      ]
    },
    {
      "cell_type": "markdown",
      "source": [
        " 9. Demonstrate polymorphism by creating a function that can work with different shape objects to calculate\n",
        "and print their areas"
      ],
      "metadata": {
        "id": "VmMj-Bu3vwRp"
      }
    },
    {
      "cell_type": "code",
      "source": [
        "from abc import ABC, abstractmethod\n",
        "import math\n",
        "\n",
        "class Shape(ABC):\n",
        "    @abstractmethod\n",
        "    def area(self):\n",
        "        pass\n",
        "\n",
        "class Circle(Shape):\n",
        "    def __init__(self, radius):\n",
        "        self.radius = radius\n",
        "\n",
        "    def area(self):\n",
        "        return math.pi * self.radius * self.radius\n",
        "\n",
        "class Rectangle(Shape):\n",
        "    def __init__(self, width, height):\n",
        "        self.width = width\n",
        "        self.height = height\n",
        "\n",
        "    def area(self):\n",
        "        return self.width * self.height\n",
        "\n",
        "def print_area(shape):\n",
        "    \"\"\"\n",
        "    Demonstrates polymorphism by working with different shape objects.\n",
        "    \"\"\"\n",
        "    print(f\"Area: {shape.area()}\")\n",
        "\n",
        "# Create instances of Circle and Rectangle\n",
        "circle = Circle(5)\n",
        "rectangle = Rectangle(4, 6)\n",
        "\n",
        "# Use the print_area function with different shape objects\n",
        "print_area(circle)\n",
        "print_area(rectangle)"
      ],
      "metadata": {
        "id": "cTltlWGlvwm8",
        "colab": {
          "base_uri": "https://localhost:8080/"
        },
        "outputId": "ddea362a-d090-427c-a419-b289dc7915f5"
      },
      "execution_count": 25,
      "outputs": [
        {
          "output_type": "stream",
          "name": "stdout",
          "text": [
            "Area: 78.53981633974483\n",
            "Area: 24\n"
          ]
        }
      ]
    },
    {
      "cell_type": "markdown",
      "source": [
        " 10. Implement encapsulation in a `BankAccount` class with private attributes for `balance` and\n",
        "`account_number`. Include methods for deposit, withdrawal, and balance inquiry."
      ],
      "metadata": {
        "id": "EGCqzzaAvxaz"
      }
    },
    {
      "cell_type": "code",
      "source": [
        "class BankAccount:\n",
        "    def __init__(self, account_number, initial_balance=0):\n",
        "        self.__account_number = account_number\n",
        "        self.__balance = initial_balance\n",
        "\n",
        "    def deposit(self, amount):\n",
        "        if amount > 0:\n",
        "            self.__balance += amount\n",
        "            print(f\"Deposited ${amount}. New balance: ${self.__balance}\")\n",
        "        else:\n",
        "            print(\"Invalid deposit amount.\")\n",
        "\n",
        "    def withdraw(self, amount):\n",
        "        if amount > 0 and amount <= self.__balance:\n",
        "            self.__balance -= amount\n",
        "            print(f\"Withdrew ${amount}. New balance: ${self.__balance}\")\n",
        "        else:\n",
        "            print(\"Invalid withdrawal amount or insufficient funds.\")\n",
        "\n",
        "    def get_balance(self):\n",
        "        print(f\"Account balance: ${self.__balance}\")\n",
        "\n",
        "# Example Usage\n",
        "my_account = BankAccount(\"1234567890\", 1000)\n",
        "my_account.deposit(500)\n",
        "my_account.withdraw(200)\n",
        "my_account.get_balance()\n"
      ],
      "metadata": {
        "id": "0m0JvJzQv0AW",
        "colab": {
          "base_uri": "https://localhost:8080/"
        },
        "outputId": "b105534b-7636-4973-aed4-26a1c0509f8b"
      },
      "execution_count": 26,
      "outputs": [
        {
          "output_type": "stream",
          "name": "stdout",
          "text": [
            "Deposited $500. New balance: $1500\n",
            "Withdrew $200. New balance: $1300\n",
            "Account balance: $1300\n"
          ]
        }
      ]
    },
    {
      "cell_type": "markdown",
      "source": [
        "11. Write a class that overrides the `__str__` and `__add__` magic methods. What will these methods allow\n",
        "you to do?"
      ],
      "metadata": {
        "id": "QhwiDCckv1KT"
      }
    },
    {
      "cell_type": "code",
      "source": [
        "class CustomClass:\n",
        "    def __init__(self, value):\n",
        "        self.value = value\n",
        "\n",
        "    def __str__(self):\n",
        "        return f\"CustomClass with value: {self.value}\"\n",
        "\n",
        "    def __add__(self, other):\n",
        "        if isinstance(other, CustomClass):\n",
        "            return CustomClass(self.value + other.value)\n",
        "        else:\n",
        "            return CustomClass(self.value + other)\n",
        "\n",
        "# Example usage\n",
        "obj1 = CustomClass(10)\n",
        "obj2 = CustomClass(20)\n",
        "\n",
        "print(obj1)\n",
        "print(obj1 + obj2)\n",
        "print(obj1 + 5)\n",
        ""
      ],
      "metadata": {
        "id": "SNLUFoW4v31_",
        "colab": {
          "base_uri": "https://localhost:8080/"
        },
        "outputId": "baa55a2e-01f6-4e30-e8b4-f39ffba5db8d"
      },
      "execution_count": 27,
      "outputs": [
        {
          "output_type": "stream",
          "name": "stdout",
          "text": [
            "CustomClass with value: 10\n",
            "CustomClass with value: 30\n",
            "CustomClass with value: 15\n"
          ]
        }
      ]
    },
    {
      "cell_type": "code",
      "source": [
        "#__str__(self): This method is called when the str() function is used on an instance of the class. It should return a string representation of the object\n",
        "#__add__(self, other): This method is called when the + operator is used with instances of the class. It should return the result of addition .\n",
        ""
      ],
      "metadata": {
        "id": "hZFgh-PaHRQ2"
      },
      "execution_count": 28,
      "outputs": []
    },
    {
      "cell_type": "markdown",
      "source": [
        " 12. Create a decorator that measures and prints the execution time of a function."
      ],
      "metadata": {
        "id": "KdBeeUggv6xX"
      }
    },
    {
      "cell_type": "code",
      "source": [
        "import time\n",
        "\n",
        "def time_it(func):\n",
        "    def wrapper(*args, **kwargs):\n",
        "        start_time = time.time()\n",
        "        result = func(*args, **kwargs)\n",
        "        end_time = time.time()\n",
        "        execution_time = end_time - start_time\n",
        "        print(f\"Execution time of {func.__name__}: {execution_time} seconds\")\n",
        "        return result\n",
        "    return wrapper\n",
        "\n",
        "@time_it\n",
        "def my_function():\n",
        "    time.sleep(2)\n",
        "\n",
        "my_function()"
      ],
      "metadata": {
        "id": "9uMZFjQqv7DO",
        "colab": {
          "base_uri": "https://localhost:8080/"
        },
        "outputId": "ef3e5cc6-efea-4139-90a3-26e2fd473159"
      },
      "execution_count": 29,
      "outputs": [
        {
          "output_type": "stream",
          "name": "stdout",
          "text": [
            "Execution time of my_function: 2.002593755722046 seconds\n"
          ]
        }
      ]
    },
    {
      "cell_type": "markdown",
      "source": [
        " 13. Explain the concept of the Diamond Problem in multiple inheritance. How does Python resolve it?"
      ],
      "metadata": {
        "id": "NGY8n7Qlv-Yp"
      }
    },
    {
      "cell_type": "code",
      "source": [
        "#The diamond problem is a specific issue that can arise in programming languages that support multiple inheritance, including Python. It occurs when a class inherits from two or more classes that have a common base class\n",
        "#To mitigate the diamond problem, Python uses a method resolution order (MRO) algorithm called C3 linearization. The MRO determines the order in which the base classes are searched for a method or attribute. It follows a specific set of rules to ensure a consistent and unambiguous order\n",
        "\n",
        ""
      ],
      "metadata": {
        "id": "CGp1lCJXv-rz"
      },
      "execution_count": 30,
      "outputs": []
    },
    {
      "cell_type": "code",
      "source": [
        "#example\n",
        "class A:\n",
        "    def method(self):\n",
        "        print(\"Method in A\")\n",
        "\n",
        "class B(A):\n",
        "    def method(self):\n",
        "        print(\"Method in B\")\n",
        "\n",
        "class C(A):\n",
        "    def method(self):\n",
        "        print(\"Method in C\")\n",
        "\n",
        "class D(B, C):\n",
        "    pass\n",
        "\n",
        "d = D()\n",
        "d.method()\n",
        "print(D.mro())"
      ],
      "metadata": {
        "colab": {
          "base_uri": "https://localhost:8080/"
        },
        "id": "LxsIzvE8Hpgh",
        "outputId": "6f737e15-15ee-430f-d1b9-ce957ee60602"
      },
      "execution_count": 31,
      "outputs": [
        {
          "output_type": "stream",
          "name": "stdout",
          "text": [
            "Method in B\n",
            "[<class '__main__.D'>, <class '__main__.B'>, <class '__main__.C'>, <class '__main__.A'>, <class 'object'>]\n"
          ]
        }
      ]
    },
    {
      "cell_type": "markdown",
      "source": [
        "14. Write a class method that keeps track of the number of instances created from a class"
      ],
      "metadata": {
        "id": "kwAXSvorv_Lx"
      }
    },
    {
      "cell_type": "code",
      "source": [
        "class MyClass:\n",
        "    num_instances = 0\n",
        "\n",
        "    def __init__(self):\n",
        "        MyClass.num_instances += 1\n",
        "\n",
        "    @classmethod\n",
        "    def get_num_instances(cls):\n",
        "        return cls.num_instances\n",
        "\n",
        "# Creating instances of the class\n",
        "obj1 = MyClass()\n",
        "obj2 = MyClass()\n",
        "obj3 = MyClass()\n",
        "\n",
        "# Getting the number of instances created\n",
        "print(MyClass.get_num_instances())\n"
      ],
      "metadata": {
        "id": "ueZLstB6wCHG",
        "colab": {
          "base_uri": "https://localhost:8080/"
        },
        "outputId": "9a724c4f-c7b4-4267-eaaa-25f51cf7f6e5"
      },
      "execution_count": 32,
      "outputs": [
        {
          "output_type": "stream",
          "name": "stdout",
          "text": [
            "3\n"
          ]
        }
      ]
    },
    {
      "cell_type": "markdown",
      "source": [
        " 15. Implement a static method in a class that checks if a given year is a leap year."
      ],
      "metadata": {
        "id": "j_xjCdsjwGrI"
      }
    },
    {
      "cell_type": "code",
      "source": [
        "class LeapYearChecker:\n",
        "    @staticmethod\n",
        "    def is_leap_year(year):\n",
        "        return (year % 4 == 0 and year % 100 != 0) or year % 400 == 0\n",
        "\n",
        "# Test the static method\n",
        "year_to_check = 2024\n",
        "if LeapYearChecker.is_leap_year(year_to_check):\n",
        "    print(f\"{year_to_check} is a leap year.\")\n",
        "else:\n",
        "    print(f\"{year_to_check} is not a leap year.\")\n"
      ],
      "metadata": {
        "colab": {
          "base_uri": "https://localhost:8080/"
        },
        "id": "SmFJCR8aH2rW",
        "outputId": "bc4e395d-e992-454f-ea4b-addc12518750"
      },
      "execution_count": 33,
      "outputs": [
        {
          "output_type": "stream",
          "name": "stdout",
          "text": [
            "2024 is a leap year.\n"
          ]
        }
      ]
    },
    {
      "cell_type": "code",
      "source": [],
      "metadata": {
        "id": "xUcEExjVwG9k"
      },
      "execution_count": null,
      "outputs": []
    }
  ]
}